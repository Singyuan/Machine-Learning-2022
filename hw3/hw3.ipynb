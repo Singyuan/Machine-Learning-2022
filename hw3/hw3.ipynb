{
  "cells": [
    {
      "cell_type": "markdown",
      "metadata": {
        "id": "YLjr1X2BlKXB"
      },
      "source": [
        "# HW3 Image Classification\n",
        "**因需跑超過colab限制時間，因此將此份code轉成py檔，放到cluster上跑。**\n",
        "## We strongly recommend that you run with Kaggle for this homework\n",
        "https://www.kaggle.com/c/ml2022spring-hw3b/code?competitionId=34954&sortBy=dateCreated"
      ]
    },
    {
      "cell_type": "markdown",
      "metadata": {
        "id": "rFjuSxHHlN9O"
      },
      "source": [
        "# Get Data\n",
        "Notes: if the links are dead, you can download the data directly from Kaggle and upload it to the workspace, or you can use the Kaggle API to directly download the data into colab."
      ]
    },
    {
      "cell_type": "code",
      "execution_count": 1,
      "metadata": {
        "colab": {
          "base_uri": "https://localhost:8080/"
        },
        "id": "LmfmEzSilF_W",
        "outputId": "c0d693bb-8ec1-4e85-a0e1-d9328aee960a"
      },
      "outputs": [
        {
          "name": "stdout",
          "output_type": "stream",
          "text": [
            "--2022-03-24 08:14:32--  https://github.com/virginiakm1988/ML2022-Spring/blob/main/HW03/food11.zip?raw=true\n",
            "Resolving github.com (github.com)... 140.82.121.3\n",
            "Connecting to github.com (github.com)|140.82.121.3|:443... connected.\n",
            "HTTP request sent, awaiting response... 302 Found\n",
            "Location: https://github.com/virginiakm1988/ML2022-Spring/raw/main/HW03/food11.zip [following]\n",
            "--2022-03-24 08:14:32--  https://github.com/virginiakm1988/ML2022-Spring/raw/main/HW03/food11.zip\n",
            "Reusing existing connection to github.com:443.\n",
            "HTTP request sent, awaiting response... 302 Found\n",
            "Location: https://media.githubusercontent.com/media/virginiakm1988/ML2022-Spring/main/HW03/food11.zip [following]\n",
            "--2022-03-24 08:14:32--  https://media.githubusercontent.com/media/virginiakm1988/ML2022-Spring/main/HW03/food11.zip\n",
            "Resolving media.githubusercontent.com (media.githubusercontent.com)... 185.199.108.133, 185.199.109.133, 185.199.110.133, ...\n",
            "Connecting to media.githubusercontent.com (media.githubusercontent.com)|185.199.108.133|:443... connected.\n",
            "HTTP request sent, awaiting response... 200 OK\n",
            "Length: 1163077597 (1.1G) [application/zip]\n",
            "Saving to: ‘food11.zip’\n",
            "\n",
            "food11.zip          100%[===================>]   1.08G   226MB/s    in 4.9s    \n",
            "\n",
            "2022-03-24 08:15:10 (227 MB/s) - ‘food11.zip’ saved [1163077597/1163077597]\n",
            "\n"
          ]
        }
      ],
      "source": [
        "#! wget https://www.dropbox.com/s/6l2vcvxl54b0b6w/food11.zip\n",
        "! wget -O food11.zip \"https://github.com/virginiakm1988/ML2022-Spring/blob/main/HW03/food11.zip?raw=true\""
      ]
    },
    {
      "cell_type": "code",
      "execution_count": 2,
      "metadata": {
        "id": "eXKIsEuxlFGe"
      },
      "outputs": [],
      "source": [
        "%%capture\n",
        "! unzip food11.zip"
      ]
    },
    {
      "cell_type": "markdown",
      "metadata": {
        "id": "HFMk6W_-lWHG"
      },
      "source": [
        "# Training"
      ]
    },
    {
      "cell_type": "code",
      "execution_count": 3,
      "metadata": {
        "id": "892SJaYvk804"
      },
      "outputs": [],
      "source": [
        "import numpy as np\n",
        "import pandas as pd\n",
        "from glob import glob\n",
        "import torch\n",
        "import os\n",
        "from PIL import Image\n",
        "from torch.utils.data import DataLoader, Dataset\n",
        "import torchvision.transforms as transforms\n",
        "from pathlib import Path\n",
        "import torch.nn as nn\n",
        "from tqdm import tqdm\n",
        "from typing import List\n",
        "from torch.utils.tensorboard import SummaryWriter\n",
        "import random"
      ]
    },
    {
      "cell_type": "code",
      "execution_count": 4,
      "metadata": {
        "id": "KHAwxfNok_kc"
      },
      "outputs": [],
      "source": [
        "# make the training be deterministic\n",
        "my_seed = 6666\n",
        "torch.backends.cudnn.deterministic = True\n",
        "torch.backends.cudnn.benchmark = False\n",
        "np.random.seed(my_seed)\n",
        "random.seed(my_seed)\n",
        "torch.manual_seed(my_seed)\n",
        "if torch.cuda.is_available():\n",
        "    torch.cuda.manual_seed_all(my_seed)"
      ]
    },
    {
      "cell_type": "markdown",
      "metadata": {
        "id": "cwG1441qljy3"
      },
      "source": [
        "## Dataset"
      ]
    },
    {
      "cell_type": "code",
      "execution_count": 5,
      "metadata": {
        "id": "iVUsNvUpljid"
      },
      "outputs": [],
      "source": [
        "N_REPEAT = 2\n",
        "\n",
        "class FoodDataset(Dataset):\n",
        "\n",
        "    def __init__(self, path: str, transform=None, testing=False, n_repeat=1, clean=False):\n",
        "        super().__init__()\n",
        "        if clean:\n",
        "            self.files = [\n",
        "                    f for f in sorted(glob(os.path.join(path, '*.jpg')))\n",
        "                if int(\n",
        "                    Path(f).stem.split('_')[0]\n",
        "                ) not in [1, 10]\n",
        "            ]\n",
        "        else:\n",
        "            self.files = sorted(glob(os.path.join(path, '*.jpg')))\n",
        "        assert len(self.files) > 0\n",
        "        if n_repeat > 1:\n",
        "            self.files = [f for f in self.files for _ in range(n_repeat)]\n",
        "        self.transform = transform\n",
        "        self.testing = testing\n",
        "\n",
        "    def __len__(self):\n",
        "        return len(self.files)\n",
        "\n",
        "    def __getitem__(self, idx):\n",
        "        file_name = self.files[idx]\n",
        "        if self.transform:\n",
        "            image = self.transform(Image.open(file_name))\n",
        "        else:\n",
        "            image = Image.open(file_name)\n",
        "\n",
        "        if self.testing:\n",
        "            label = -1\n",
        "        else:\n",
        "            tags = Path(file_name).stem.split('_')\n",
        "            assert len(tags) == 2\n",
        "            label = int(tags[0])\n",
        "\n",
        "        return (image, label)\n",
        "\n",
        "\n",
        "class MyDataset(Dataset):\n",
        "\n",
        "    def __init__(self, files: List[Path], n_repeat: int = 0):\n",
        "        super().__init__()\n",
        "        assert len(files) > 0\n",
        "        self.files = files\n",
        "        if n_repeat > 0:\n",
        "            self.files = self.files * n_repeat\n",
        "        self.transform = None\n",
        "\n",
        "    def __len__(self):\n",
        "        return len(self.files)\n",
        "\n",
        "    def set_transform(self, transform):\n",
        "        self.transform = transform\n",
        "\n",
        "    def __getitem__(self, idx):\n",
        "        file_name = self.files[idx]\n",
        "        if self.transform:\n",
        "            image = self.transform(Image.open(file_name))\n",
        "        else:\n",
        "            image = Image.open(file_name)\n",
        "\n",
        "        tags = Path(file_name).stem.split('_')\n",
        "        assert len(tags) == 2\n",
        "        label = int(tags[0])\n",
        "\n",
        "        return (image, label)"
      ]
    },
    {
      "cell_type": "code",
      "execution_count": 6,
      "metadata": {
        "id": "QZObBhLzlEG9"
      },
      "outputs": [],
      "source": [
        "def random_split(ratio=0.8):\n",
        "    files1 = list(Path('./food11/training').glob('*.jpg'))\n",
        "    files2 = list(Path('./food11/validation').glob('*.jpg'))\n",
        "    files = files1+files2\n",
        "    random.shuffle(files)\n",
        "    n_train = int(len(files) * ratio)\n",
        "    return {\n",
        "        'train': MyDataset(files[:n_train], n_repeat=N_REPEAT),\n",
        "        'valid': MyDataset(files[n_train:])\n",
        "    }"
      ]
    },
    {
      "cell_type": "markdown",
      "metadata": {
        "id": "Fy0COW4ylvOH"
      },
      "source": [
        "## Transform"
      ]
    },
    {
      "cell_type": "code",
      "execution_count": 7,
      "metadata": {
        "id": "CDDRgq7Dlwoe"
      },
      "outputs": [],
      "source": [
        "tf = {\n",
        "    'train': transforms.Compose([\n",
        "        #  transforms.RandomCrop(\n",
        "        #      (512, 512),\n",
        "        #      pad_if_needed=True\n",
        "        #  ),\n",
        "        #  transforms.RandomCrop(\n",
        "        #      (640, 640),\n",
        "        #      pad_if_needed=True\n",
        "        #  ),\n",
        "        #  transforms.CenterCrop((640, 640)),\n",
        "        transforms.Resize((128, 128)),\n",
        "        transforms.RandomHorizontalFlip(),\n",
        "        transforms.RandomAffine(\n",
        "            degrees=(-20, 20),\n",
        "            translate=(0.1, 0.3),\n",
        "            scale=(0.5, 0.75)\n",
        "        ),\n",
        "        #  transforms.RandomRotation(degrees=(-10, 10)),\n",
        "        transforms.ColorJitter(\n",
        "            brightness=0.1,\n",
        "            contrast=0.2,\n",
        "            saturation=0,\n",
        "            hue=0\n",
        "        ),\n",
        "        transforms.ToTensor(),\n",
        "        transforms.RandomErasing(),\n",
        "    ]),\n",
        "    'valid': transforms.Compose([\n",
        "        #  transforms.CenterCrop((512, 512)),\n",
        "        #  transforms.CenterCrop((640, 640)),\n",
        "        transforms.Resize((128, 128)),\n",
        "        transforms.ToTensor(),\n",
        "    ]),\n",
        "    'aug': transforms.Compose([\n",
        "        transforms.RandomHorizontalFlip(),\n",
        "        transforms.RandomAffine(\n",
        "            degrees=(-20, 20),\n",
        "            translate=(0.1, 0.3),\n",
        "            scale=(0.5, 0.75)\n",
        "        ),\n",
        "        transforms.ColorJitter(\n",
        "            brightness=0.1,\n",
        "            contrast=0.2,\n",
        "            saturation=0,\n",
        "            hue=0\n",
        "        ),\n",
        "    ]),\n",
        "}"
      ]
    },
    {
      "cell_type": "code",
      "execution_count": 8,
      "metadata": {
        "id": "8PUQlIHkl5Vm"
      },
      "outputs": [],
      "source": [
        "datasets = random_split(ratio=0.7)\n",
        "for key in datasets:\n",
        "    datasets[key].set_transform(tf[key])"
      ]
    },
    {
      "cell_type": "markdown",
      "metadata": {
        "id": "D-NQe0vZlq6V"
      },
      "source": [
        "## Model"
      ]
    },
    {
      "cell_type": "code",
      "execution_count": 9,
      "metadata": {
        "id": "50TmdRVolqtR"
      },
      "outputs": [],
      "source": [
        "class Classifier(nn.Module):\n",
        "    def __init__(self):\n",
        "        super().__init__()\n",
        "        self.model = nn.Sequential(\n",
        "            nn.Conv2d(3, 64, 3, 1, 1),\n",
        "            nn.BatchNorm2d(64),\n",
        "            nn.ReLU(),\n",
        "            nn.MaxPool2d(2, 2, 0),\n",
        "\n",
        "            nn.Conv2d(64, 128, 3, 1, 1),\n",
        "            nn.BatchNorm2d(128),\n",
        "            nn.ReLU(),\n",
        "            nn.MaxPool2d(2, 2, 0),\n",
        "\n",
        "            nn.Conv2d(128, 256, 3, 1, 1),\n",
        "            nn.BatchNorm2d(256),\n",
        "            nn.ReLU(),\n",
        "            nn.MaxPool2d(2, 2, 0),\n",
        "\n",
        "            nn.Conv2d(256, 512, 3, 1, 1),\n",
        "            nn.BatchNorm2d(512),\n",
        "            nn.ReLU(),\n",
        "            nn.MaxPool2d(2, 2, 0),\n",
        "\n",
        "            nn.Conv2d(512, 512, 3, 1, 1),\n",
        "            nn.BatchNorm2d(512),\n",
        "            nn.ReLU(),\n",
        "            nn.MaxPool2d(2, 2, 0),\n",
        "\n",
        "            nn.Flatten(),\n",
        "            nn.Linear(512 * 4 * 4, 1024),\n",
        "            nn.ReLU(),\n",
        "            nn.Linear(1024, 512),\n",
        "            nn.ReLU(),\n",
        "            nn.Linear(512, 11)\n",
        "        )\n",
        "\n",
        "\n",
        "    def forward(self, x):\n",
        "        return self.model(x)"
      ]
    },
    {
      "cell_type": "code",
      "execution_count": 10,
      "metadata": {
        "id": "8f0c-G6plDIJ"
      },
      "outputs": [],
      "source": [
        "device = \"cuda\" if torch.cuda.is_available() else \"cpu\"\n",
        "\n",
        "class_sample_count = [\n",
        "    1356,\n",
        "    573,\n",
        "    2000,\n",
        "    1313,\n",
        "    1174,\n",
        "    1774,\n",
        "    587,\n",
        "    376,\n",
        "    1202,\n",
        "    2000,\n",
        "    941\n",
        "]\n",
        "loss_weight = (1 / torch.Tensor(class_sample_count)).to(device)\n",
        "\n",
        "loaders = {\n",
        "    key: DataLoader(\n",
        "        datasets[key],\n",
        "        batch_size=128,\n",
        "        shuffle=True,\n",
        "        num_workers=0,\n",
        "        pin_memory=True,\n",
        "    ) for key in datasets\n",
        "}\n",
        "\n",
        "CHECKPOINT = 'best.ckpt'\n",
        "#  CHECKPOINT = 'clean.ckpt'\n",
        "model = Classifier().to(device)\n",
        "# model.load_state_dict(torch.load(CHECKPOINT))\n",
        "criterion = nn.CrossEntropyLoss(weight=loss_weight)\n",
        "\n",
        "def accuracy(logits, label):\n",
        "    return (logits.argmax(dim=-1) == label).float().mean()\n",
        "\n",
        "optimizer = torch.optim.Adam(\n",
        "    model.parameters(),\n",
        "    #  lr=0.0005,\n",
        "    # lr=0.00001,\n",
        "    #  lr=0.0001,\n",
        "    lr=0.001,\n",
        "    weight_decay=1e-5\n",
        ")\n",
        "scheduler = torch.optim.lr_scheduler.MultiStepLR(optimizer, milestones=[10, 25, 40, 55, 70, 85], gamma=0.5)"
      ]
    },
    {
      "cell_type": "markdown",
      "metadata": {
        "id": "dMeYHRDkm_i-"
      },
      "source": [
        "## Main"
      ]
    },
    {
      "cell_type": "code",
      "execution_count": null,
      "metadata": {
        "colab": {
          "base_uri": "https://localhost:8080/"
        },
        "id": "ZtrEdPcfmR-X",
        "outputId": "bf293e62-2b2d-46e6-f136-d260053666bc"
      },
      "outputs": [
        {
          "name": "stdout",
          "output_type": "stream",
          "text": [
            "\n",
            "Epoch: 0\n"
          ]
        },
        {
          "name": "stderr",
          "output_type": "stream",
          "text": [
            "[train] loss: 2.211, accu: 0.148: 100%|██████████| 146/146 [04:33<00:00,  1.87s/it]\n"
          ]
        },
        {
          "name": "stdout",
          "output_type": "stream",
          "text": [
            "[train] avg loss: 2.397, avg accu: 0.135, lr: 0.00100\n",
            "\n",
            "Epoch: 1\n"
          ]
        },
        {
          "name": "stderr",
          "output_type": "stream",
          "text": [
            "[train] loss: 2.427, accu: 0.130: 100%|██████████| 146/146 [04:38<00:00,  1.91s/it]\n"
          ]
        },
        {
          "name": "stdout",
          "output_type": "stream",
          "text": [
            "[train] avg loss: 2.211, avg accu: 0.177, lr: 0.00100\n",
            "\n",
            "Epoch: 2\n"
          ]
        },
        {
          "name": "stderr",
          "output_type": "stream",
          "text": [
            "[train] loss: 1.928, accu: 0.204: 100%|██████████| 146/146 [04:35<00:00,  1.89s/it]\n"
          ]
        },
        {
          "name": "stdout",
          "output_type": "stream",
          "text": [
            "[train] avg loss: 2.093, avg accu: 0.229, lr: 0.00100\n",
            "\n",
            "Epoch: 3\n"
          ]
        },
        {
          "name": "stderr",
          "output_type": "stream",
          "text": [
            "[train] loss: 1.785, accu: 0.222: 100%|██████████| 146/146 [04:36<00:00,  1.89s/it]\n"
          ]
        },
        {
          "name": "stdout",
          "output_type": "stream",
          "text": [
            "[train] avg loss: 1.929, avg accu: 0.274, lr: 0.00100\n",
            "\n",
            "Epoch: 4\n"
          ]
        },
        {
          "name": "stderr",
          "output_type": "stream",
          "text": [
            "[train] loss: 1.962, accu: 0.315: 100%|██████████| 146/146 [04:38<00:00,  1.91s/it]\n"
          ]
        },
        {
          "name": "stdout",
          "output_type": "stream",
          "text": [
            "[train] avg loss: 1.838, avg accu: 0.317, lr: 0.00100\n",
            "\n",
            "Epoch: 5\n"
          ]
        },
        {
          "name": "stderr",
          "output_type": "stream",
          "text": [
            "[train] loss: 1.609, accu: 0.444: 100%|██████████| 146/146 [04:35<00:00,  1.89s/it]\n"
          ]
        },
        {
          "name": "stdout",
          "output_type": "stream",
          "text": [
            "[train] avg loss: 1.731, avg accu: 0.350, lr: 0.00100\n",
            "\n",
            "Epoch: 6\n"
          ]
        },
        {
          "name": "stderr",
          "output_type": "stream",
          "text": [
            "[train] loss: 2.063, accu: 0.278: 100%|██████████| 146/146 [04:35<00:00,  1.89s/it]\n"
          ]
        },
        {
          "name": "stdout",
          "output_type": "stream",
          "text": [
            "[train] avg loss: 1.650, avg accu: 0.380, lr: 0.00100\n",
            "\n",
            "Epoch: 7\n"
          ]
        },
        {
          "name": "stderr",
          "output_type": "stream",
          "text": [
            "[train] loss: 1.634, accu: 0.444: 100%|██████████| 146/146 [04:33<00:00,  1.88s/it]\n"
          ]
        },
        {
          "name": "stdout",
          "output_type": "stream",
          "text": [
            "[train] avg loss: 1.578, avg accu: 0.415, lr: 0.00100\n",
            "\n",
            "Epoch: 8\n"
          ]
        },
        {
          "name": "stderr",
          "output_type": "stream",
          "text": [
            "[train] loss: 1.350, accu: 0.389: 100%|██████████| 146/146 [04:35<00:00,  1.89s/it]\n"
          ]
        },
        {
          "name": "stdout",
          "output_type": "stream",
          "text": [
            "[train] avg loss: 1.513, avg accu: 0.433, lr: 0.00100\n",
            "\n",
            "Epoch: 9\n"
          ]
        },
        {
          "name": "stderr",
          "output_type": "stream",
          "text": [
            "[train] loss: 1.334, accu: 0.444: 100%|██████████| 146/146 [04:35<00:00,  1.88s/it]\n"
          ]
        },
        {
          "name": "stdout",
          "output_type": "stream",
          "text": [
            "[train] avg loss: 1.450, avg accu: 0.461, lr: 0.00050\n",
            "\n",
            "Epoch: 10\n"
          ]
        },
        {
          "name": "stderr",
          "output_type": "stream",
          "text": [
            "[train] loss: 1.209, accu: 0.463: 100%|██████████| 146/146 [04:33<00:00,  1.87s/it]\n"
          ]
        },
        {
          "name": "stdout",
          "output_type": "stream",
          "text": [
            "[train] avg loss: 1.328, avg accu: 0.505, lr: 0.00050\n",
            "\n",
            "Epoch: 11\n"
          ]
        },
        {
          "name": "stderr",
          "output_type": "stream",
          "text": [
            "[train] loss: 1.308, accu: 0.574: 100%|██████████| 146/146 [04:30<00:00,  1.85s/it]\n"
          ]
        },
        {
          "name": "stdout",
          "output_type": "stream",
          "text": [
            "[train] avg loss: 1.278, avg accu: 0.521, lr: 0.00050\n",
            "\n",
            "Epoch: 12\n"
          ]
        },
        {
          "name": "stderr",
          "output_type": "stream",
          "text": [
            "[train] loss: 1.172, accu: 0.556: 100%|██████████| 146/146 [04:24<00:00,  1.81s/it]\n"
          ]
        },
        {
          "name": "stdout",
          "output_type": "stream",
          "text": [
            "[train] avg loss: 1.242, avg accu: 0.537, lr: 0.00050\n",
            "\n",
            "Epoch: 13\n"
          ]
        },
        {
          "name": "stderr",
          "output_type": "stream",
          "text": [
            "[train] loss: 1.390, accu: 0.500: 100%|██████████| 146/146 [04:26<00:00,  1.82s/it]\n"
          ]
        },
        {
          "name": "stdout",
          "output_type": "stream",
          "text": [
            "[train] avg loss: 1.207, avg accu: 0.545, lr: 0.00050\n",
            "\n",
            "Epoch: 14\n"
          ]
        },
        {
          "name": "stderr",
          "output_type": "stream",
          "text": [
            "[train] loss: 0.929, accu: 0.685: 100%|██████████| 146/146 [04:25<00:00,  1.82s/it]\n"
          ]
        },
        {
          "name": "stdout",
          "output_type": "stream",
          "text": [
            "[train] avg loss: 1.181, avg accu: 0.558, lr: 0.00050\n",
            "\n",
            "Epoch: 15\n"
          ]
        },
        {
          "name": "stderr",
          "output_type": "stream",
          "text": [
            "[train] loss: 1.123, accu: 0.630: 100%|██████████| 146/146 [04:28<00:00,  1.84s/it]\n"
          ]
        },
        {
          "name": "stdout",
          "output_type": "stream",
          "text": [
            "[train] avg loss: 1.152, avg accu: 0.569, lr: 0.00050\n",
            "\n",
            "Epoch: 16\n"
          ]
        },
        {
          "name": "stderr",
          "output_type": "stream",
          "text": [
            "[train] loss: 1.330, accu: 0.444: 100%|██████████| 146/146 [04:28<00:00,  1.84s/it]\n"
          ]
        },
        {
          "name": "stdout",
          "output_type": "stream",
          "text": [
            "[train] avg loss: 1.116, avg accu: 0.584, lr: 0.00050\n"
          ]
        },
        {
          "name": "stderr",
          "output_type": "stream",
          "text": [
            "[valid] loss: 1.980, accu: 0.524: 100%|██████████| 32/32 [01:15<00:00,  2.37s/it]\n"
          ]
        },
        {
          "name": "stdout",
          "output_type": "stream",
          "text": [
            "[valid] avg loss: 1.389, avg accu: 0.572\n",
            "\n",
            "Epoch: 17\n"
          ]
        },
        {
          "name": "stderr",
          "output_type": "stream",
          "text": [
            "[train] loss: 0.905, accu: 0.685: 100%|██████████| 146/146 [04:32<00:00,  1.86s/it]\n"
          ]
        },
        {
          "name": "stdout",
          "output_type": "stream",
          "text": [
            "[train] avg loss: 1.080, avg accu: 0.598, lr: 0.00050\n"
          ]
        },
        {
          "name": "stderr",
          "output_type": "stream",
          "text": [
            "[valid] loss: 1.316, accu: 0.524: 100%|██████████| 32/32 [01:16<00:00,  2.40s/it]\n"
          ]
        },
        {
          "name": "stdout",
          "output_type": "stream",
          "text": [
            "[valid] avg loss: 1.414, avg accu: 0.566\n",
            "\n",
            "Epoch: 18\n"
          ]
        },
        {
          "name": "stderr",
          "output_type": "stream",
          "text": [
            "[train] loss: 1.019, accu: 0.593: 100%|██████████| 146/146 [04:35<00:00,  1.88s/it]\n"
          ]
        },
        {
          "name": "stdout",
          "output_type": "stream",
          "text": [
            "[train] avg loss: 1.062, avg accu: 0.602, lr: 0.00050\n"
          ]
        },
        {
          "name": "stderr",
          "output_type": "stream",
          "text": [
            "[valid] loss: 1.358, accu: 0.667: 100%|██████████| 32/32 [01:15<00:00,  2.37s/it]\n"
          ]
        },
        {
          "name": "stdout",
          "output_type": "stream",
          "text": [
            "[valid] avg loss: 1.222, avg accu: 0.625\n",
            "\n",
            "Epoch: 19\n"
          ]
        },
        {
          "name": "stderr",
          "output_type": "stream",
          "text": [
            "[train] loss: 1.246, accu: 0.519: 100%|██████████| 146/146 [04:32<00:00,  1.87s/it]\n"
          ]
        },
        {
          "name": "stdout",
          "output_type": "stream",
          "text": [
            "[train] avg loss: 1.027, avg accu: 0.613, lr: 0.00050\n"
          ]
        },
        {
          "name": "stderr",
          "output_type": "stream",
          "text": [
            "[valid] loss: 0.734, accu: 0.810: 100%|██████████| 32/32 [01:16<00:00,  2.40s/it]\n"
          ]
        },
        {
          "name": "stdout",
          "output_type": "stream",
          "text": [
            "[valid] avg loss: 1.477, avg accu: 0.569\n",
            "\n",
            "Epoch: 20\n"
          ]
        },
        {
          "name": "stderr",
          "output_type": "stream",
          "text": [
            "[train] loss: 1.077, accu: 0.611: 100%|██████████| 146/146 [04:36<00:00,  1.89s/it]\n"
          ]
        },
        {
          "name": "stdout",
          "output_type": "stream",
          "text": [
            "[train] avg loss: 1.007, avg accu: 0.623, lr: 0.00050\n"
          ]
        },
        {
          "name": "stderr",
          "output_type": "stream",
          "text": [
            "[valid] loss: 0.970, accu: 0.714: 100%|██████████| 32/32 [01:15<00:00,  2.34s/it]\n"
          ]
        },
        {
          "name": "stdout",
          "output_type": "stream",
          "text": [
            "[valid] avg loss: 1.541, avg accu: 0.553\n",
            "\n",
            "Epoch: 21\n"
          ]
        },
        {
          "name": "stderr",
          "output_type": "stream",
          "text": [
            "[train] loss: 0.833, accu: 0.685: 100%|██████████| 146/146 [04:39<00:00,  1.91s/it]\n"
          ]
        },
        {
          "name": "stdout",
          "output_type": "stream",
          "text": [
            "[train] avg loss: 0.972, avg accu: 0.635, lr: 0.00050\n"
          ]
        },
        {
          "name": "stderr",
          "output_type": "stream",
          "text": [
            "[valid] loss: 1.590, accu: 0.524: 100%|██████████| 32/32 [01:17<00:00,  2.42s/it]\n"
          ]
        },
        {
          "name": "stdout",
          "output_type": "stream",
          "text": [
            "[valid] avg loss: 1.421, avg accu: 0.550\n",
            "\n",
            "Epoch: 22\n"
          ]
        },
        {
          "name": "stderr",
          "output_type": "stream",
          "text": [
            "[train] loss: 0.800, accu: 0.722: 100%|██████████| 146/146 [04:36<00:00,  1.90s/it]\n"
          ]
        },
        {
          "name": "stdout",
          "output_type": "stream",
          "text": [
            "[train] avg loss: 0.959, avg accu: 0.636, lr: 0.00050\n"
          ]
        },
        {
          "name": "stderr",
          "output_type": "stream",
          "text": [
            "[valid] loss: 1.097, accu: 0.619: 100%|██████████| 32/32 [01:16<00:00,  2.39s/it]\n"
          ]
        },
        {
          "name": "stdout",
          "output_type": "stream",
          "text": [
            "[valid] avg loss: 1.127, avg accu: 0.623\n",
            "\n",
            "Epoch: 23\n"
          ]
        },
        {
          "name": "stderr",
          "output_type": "stream",
          "text": [
            "[train] loss: 0.947, accu: 0.630: 100%|██████████| 146/146 [04:37<00:00,  1.90s/it]\n"
          ]
        },
        {
          "name": "stdout",
          "output_type": "stream",
          "text": [
            "[train] avg loss: 0.935, avg accu: 0.649, lr: 0.00050\n"
          ]
        },
        {
          "name": "stderr",
          "output_type": "stream",
          "text": [
            "[valid] loss: 1.297, accu: 0.571: 100%|██████████| 32/32 [01:15<00:00,  2.37s/it]\n"
          ]
        },
        {
          "name": "stdout",
          "output_type": "stream",
          "text": [
            "[valid] avg loss: 1.280, avg accu: 0.586\n",
            "\n",
            "Epoch: 24\n"
          ]
        },
        {
          "name": "stderr",
          "output_type": "stream",
          "text": [
            "[train] loss: 1.034, accu: 0.630: 100%|██████████| 146/146 [04:38<00:00,  1.91s/it]\n"
          ]
        },
        {
          "name": "stdout",
          "output_type": "stream",
          "text": [
            "[train] avg loss: 0.914, avg accu: 0.656, lr: 0.00025\n"
          ]
        },
        {
          "name": "stderr",
          "output_type": "stream",
          "text": [
            "[valid] loss: 1.245, accu: 0.619: 100%|██████████| 32/32 [01:16<00:00,  2.38s/it]\n"
          ]
        },
        {
          "name": "stdout",
          "output_type": "stream",
          "text": [
            "[valid] avg loss: 1.302, avg accu: 0.630\n",
            "\n",
            "Epoch: 25\n"
          ]
        },
        {
          "name": "stderr",
          "output_type": "stream",
          "text": [
            "[train] loss: 0.419, accu: 0.815: 100%|██████████| 146/146 [04:36<00:00,  1.90s/it]\n"
          ]
        },
        {
          "name": "stdout",
          "output_type": "stream",
          "text": [
            "[train] avg loss: 0.836, avg accu: 0.682, lr: 0.00025\n"
          ]
        },
        {
          "name": "stderr",
          "output_type": "stream",
          "text": [
            "[valid] loss: 0.802, accu: 0.762: 100%|██████████| 32/32 [01:15<00:00,  2.35s/it]\n"
          ]
        },
        {
          "name": "stdout",
          "output_type": "stream",
          "text": [
            "[valid] avg loss: 1.133, avg accu: 0.663\n",
            "\n",
            "Epoch: 26\n"
          ]
        },
        {
          "name": "stderr",
          "output_type": "stream",
          "text": [
            "[train] loss: 0.837, accu: 0.667: 100%|██████████| 146/146 [04:39<00:00,  1.91s/it]\n"
          ]
        },
        {
          "name": "stdout",
          "output_type": "stream",
          "text": [
            "[train] avg loss: 0.789, avg accu: 0.695, lr: 0.00025\n"
          ]
        },
        {
          "name": "stderr",
          "output_type": "stream",
          "text": [
            "[valid] loss: 0.821, accu: 0.714: 100%|██████████| 32/32 [01:15<00:00,  2.37s/it]\n"
          ]
        },
        {
          "name": "stdout",
          "output_type": "stream",
          "text": [
            "[valid] avg loss: 1.158, avg accu: 0.656\n",
            "\n",
            "Epoch: 27\n"
          ]
        },
        {
          "name": "stderr",
          "output_type": "stream",
          "text": [
            "[train] loss: 0.757, accu: 0.704: 100%|██████████| 146/146 [04:33<00:00,  1.88s/it]\n"
          ]
        },
        {
          "name": "stdout",
          "output_type": "stream",
          "text": [
            "[train] avg loss: 0.788, avg accu: 0.697, lr: 0.00025\n"
          ]
        },
        {
          "name": "stderr",
          "output_type": "stream",
          "text": [
            "[valid] loss: 0.719, accu: 0.762: 100%|██████████| 32/32 [01:16<00:00,  2.40s/it]\n"
          ]
        },
        {
          "name": "stdout",
          "output_type": "stream",
          "text": [
            "[valid] avg loss: 1.048, avg accu: 0.700\n",
            "\n",
            "Epoch: 28\n"
          ]
        },
        {
          "name": "stderr",
          "output_type": "stream",
          "text": [
            "[train] loss: 0.611, accu: 0.759: 100%|██████████| 146/146 [04:39<00:00,  1.92s/it]\n"
          ]
        },
        {
          "name": "stdout",
          "output_type": "stream",
          "text": [
            "[train] avg loss: 0.773, avg accu: 0.703, lr: 0.00025\n"
          ]
        },
        {
          "name": "stderr",
          "output_type": "stream",
          "text": [
            "[valid] loss: 0.746, accu: 0.762: 100%|██████████| 32/32 [01:16<00:00,  2.40s/it]\n"
          ]
        },
        {
          "name": "stdout",
          "output_type": "stream",
          "text": [
            "[valid] avg loss: 1.191, avg accu: 0.664\n",
            "\n",
            "Epoch: 29\n"
          ]
        },
        {
          "name": "stderr",
          "output_type": "stream",
          "text": [
            "[train] loss: 0.757, accu: 0.759: 100%|██████████| 146/146 [04:42<00:00,  1.94s/it]\n"
          ]
        },
        {
          "name": "stdout",
          "output_type": "stream",
          "text": [
            "[train] avg loss: 0.768, avg accu: 0.706, lr: 0.00025\n"
          ]
        },
        {
          "name": "stderr",
          "output_type": "stream",
          "text": [
            "[valid] loss: 0.510, accu: 0.857: 100%|██████████| 32/32 [01:16<00:00,  2.38s/it]\n"
          ]
        },
        {
          "name": "stdout",
          "output_type": "stream",
          "text": [
            "[valid] avg loss: 1.111, avg accu: 0.679\n",
            "\n",
            "Epoch: 30\n"
          ]
        },
        {
          "name": "stderr",
          "output_type": "stream",
          "text": [
            "[train] loss: 0.814, accu: 0.648: 100%|██████████| 146/146 [04:35<00:00,  1.89s/it]\n"
          ]
        },
        {
          "name": "stdout",
          "output_type": "stream",
          "text": [
            "[train] avg loss: 0.738, avg accu: 0.715, lr: 0.00025\n"
          ]
        },
        {
          "name": "stderr",
          "output_type": "stream",
          "text": [
            "[valid] loss: 1.342, accu: 0.619: 100%|██████████| 32/32 [01:17<00:00,  2.43s/it]\n"
          ]
        },
        {
          "name": "stdout",
          "output_type": "stream",
          "text": [
            "[valid] avg loss: 1.046, avg accu: 0.694\n",
            "\n",
            "Epoch: 31\n"
          ]
        },
        {
          "name": "stderr",
          "output_type": "stream",
          "text": [
            "[train] loss: 0.652, accu: 0.815: 100%|██████████| 146/146 [04:39<00:00,  1.91s/it]\n"
          ]
        },
        {
          "name": "stdout",
          "output_type": "stream",
          "text": [
            "[train] avg loss: 0.721, avg accu: 0.720, lr: 0.00025\n"
          ]
        },
        {
          "name": "stderr",
          "output_type": "stream",
          "text": [
            "[valid] loss: 0.658, accu: 0.714: 100%|██████████| 32/32 [01:16<00:00,  2.40s/it]\n"
          ]
        },
        {
          "name": "stdout",
          "output_type": "stream",
          "text": [
            "[valid] avg loss: 1.245, avg accu: 0.665\n",
            "\n",
            "Epoch: 32\n"
          ]
        },
        {
          "name": "stderr",
          "output_type": "stream",
          "text": [
            "[train] loss: 0.742, accu: 0.741: 100%|██████████| 146/146 [04:38<00:00,  1.91s/it]\n"
          ]
        },
        {
          "name": "stdout",
          "output_type": "stream",
          "text": [
            "[train] avg loss: 0.719, avg accu: 0.723, lr: 0.00025\n"
          ]
        },
        {
          "name": "stderr",
          "output_type": "stream",
          "text": [
            "[valid] loss: 1.295, accu: 0.476: 100%|██████████| 32/32 [01:15<00:00,  2.36s/it]\n"
          ]
        },
        {
          "name": "stdout",
          "output_type": "stream",
          "text": [
            "[valid] avg loss: 1.062, avg accu: 0.671\n",
            "\n",
            "Epoch: 33\n"
          ]
        },
        {
          "name": "stderr",
          "output_type": "stream",
          "text": [
            "[train] loss: 0.677, accu: 0.852: 100%|██████████| 146/146 [04:42<00:00,  1.93s/it]\n"
          ]
        },
        {
          "name": "stdout",
          "output_type": "stream",
          "text": [
            "[train] avg loss: 0.701, avg accu: 0.729, lr: 0.00025\n"
          ]
        },
        {
          "name": "stderr",
          "output_type": "stream",
          "text": [
            "[valid] loss: 1.180, accu: 0.667: 100%|██████████| 32/32 [01:17<00:00,  2.44s/it]\n"
          ]
        },
        {
          "name": "stdout",
          "output_type": "stream",
          "text": [
            "[valid] avg loss: 1.018, avg accu: 0.700\n",
            "\n",
            "Epoch: 34\n"
          ]
        },
        {
          "name": "stderr",
          "output_type": "stream",
          "text": [
            "[train] loss: 0.745, accu: 0.667: 100%|██████████| 146/146 [04:38<00:00,  1.91s/it]\n"
          ]
        },
        {
          "name": "stdout",
          "output_type": "stream",
          "text": [
            "[train] avg loss: 0.696, avg accu: 0.732, lr: 0.00025\n"
          ]
        },
        {
          "name": "stderr",
          "output_type": "stream",
          "text": [
            "[valid] loss: 0.675, accu: 0.857: 100%|██████████| 32/32 [01:17<00:00,  2.43s/it]\n"
          ]
        },
        {
          "name": "stdout",
          "output_type": "stream",
          "text": [
            "[valid] avg loss: 1.180, avg accu: 0.663\n",
            "\n",
            "Epoch: 35\n"
          ]
        },
        {
          "name": "stderr",
          "output_type": "stream",
          "text": [
            "[train] loss: 0.790, accu: 0.685: 100%|██████████| 146/146 [04:44<00:00,  1.95s/it]\n"
          ]
        },
        {
          "name": "stdout",
          "output_type": "stream",
          "text": [
            "[train] avg loss: 0.675, avg accu: 0.736, lr: 0.00025\n"
          ]
        },
        {
          "name": "stderr",
          "output_type": "stream",
          "text": [
            "[valid] loss: 1.367, accu: 0.714: 100%|██████████| 32/32 [01:16<00:00,  2.40s/it]\n"
          ]
        },
        {
          "name": "stdout",
          "output_type": "stream",
          "text": [
            "[valid] avg loss: 1.334, avg accu: 0.671\n",
            "\n",
            "Epoch: 36\n"
          ]
        },
        {
          "name": "stderr",
          "output_type": "stream",
          "text": [
            "[train] loss: 0.698, accu: 0.778: 100%|██████████| 146/146 [04:43<00:00,  1.94s/it]\n"
          ]
        },
        {
          "name": "stdout",
          "output_type": "stream",
          "text": [
            "[train] avg loss: 0.681, avg accu: 0.736, lr: 0.00025\n"
          ]
        },
        {
          "name": "stderr",
          "output_type": "stream",
          "text": [
            "[valid] loss: 1.261, accu: 0.714: 100%|██████████| 32/32 [01:17<00:00,  2.41s/it]\n"
          ]
        },
        {
          "name": "stdout",
          "output_type": "stream",
          "text": [
            "[valid] avg loss: 1.090, avg accu: 0.716\n",
            "\n",
            "Epoch: 37\n"
          ]
        },
        {
          "name": "stderr",
          "output_type": "stream",
          "text": [
            "[train] loss: 0.501, accu: 0.759: 100%|██████████| 146/146 [04:43<00:00,  1.94s/it]\n"
          ]
        },
        {
          "name": "stdout",
          "output_type": "stream",
          "text": [
            "[train] avg loss: 0.655, avg accu: 0.748, lr: 0.00025\n"
          ]
        },
        {
          "name": "stderr",
          "output_type": "stream",
          "text": [
            "[valid] loss: 1.539, accu: 0.571: 100%|██████████| 32/32 [01:17<00:00,  2.43s/it]\n"
          ]
        },
        {
          "name": "stdout",
          "output_type": "stream",
          "text": [
            "[valid] avg loss: 1.070, avg accu: 0.693\n",
            "\n",
            "Epoch: 38\n"
          ]
        },
        {
          "name": "stderr",
          "output_type": "stream",
          "text": [
            "[train] loss: 0.569, accu: 0.815: 100%|██████████| 146/146 [04:44<00:00,  1.95s/it]\n"
          ]
        },
        {
          "name": "stdout",
          "output_type": "stream",
          "text": [
            "[train] avg loss: 0.655, avg accu: 0.743, lr: 0.00025\n"
          ]
        },
        {
          "name": "stderr",
          "output_type": "stream",
          "text": [
            "[valid] loss: 1.529, accu: 0.571: 100%|██████████| 32/32 [01:16<00:00,  2.39s/it]\n"
          ]
        },
        {
          "name": "stdout",
          "output_type": "stream",
          "text": [
            "[valid] avg loss: 1.087, avg accu: 0.694\n",
            "\n",
            "Epoch: 39\n"
          ]
        },
        {
          "name": "stderr",
          "output_type": "stream",
          "text": [
            "[train] loss: 0.605, accu: 0.815: 100%|██████████| 146/146 [04:41<00:00,  1.93s/it]\n"
          ]
        },
        {
          "name": "stdout",
          "output_type": "stream",
          "text": [
            "[train] avg loss: 0.641, avg accu: 0.749, lr: 0.00013\n"
          ]
        },
        {
          "name": "stderr",
          "output_type": "stream",
          "text": [
            "[valid] loss: 1.312, accu: 0.619: 100%|██████████| 32/32 [01:17<00:00,  2.41s/it]\n"
          ]
        },
        {
          "name": "stdout",
          "output_type": "stream",
          "text": [
            "[valid] avg loss: 1.035, avg accu: 0.704\n",
            "\n",
            "Epoch: 40\n"
          ]
        },
        {
          "name": "stderr",
          "output_type": "stream",
          "text": [
            "[train] loss: 0.494, accu: 0.815: 100%|██████████| 146/146 [04:39<00:00,  1.92s/it]\n"
          ]
        },
        {
          "name": "stdout",
          "output_type": "stream",
          "text": [
            "[train] avg loss: 0.594, avg accu: 0.761, lr: 0.00013\n"
          ]
        },
        {
          "name": "stderr",
          "output_type": "stream",
          "text": [
            "[valid] loss: 1.105, accu: 0.714: 100%|██████████| 32/32 [01:16<00:00,  2.39s/it]\n"
          ]
        },
        {
          "name": "stdout",
          "output_type": "stream",
          "text": [
            "[valid] avg loss: 1.114, avg accu: 0.708\n",
            "\n",
            "Epoch: 41\n"
          ]
        },
        {
          "name": "stderr",
          "output_type": "stream",
          "text": [
            "[train] loss: 0.609, accu: 0.789:  82%|████████▏ | 120/146 [03:51<00:50,  1.94s/it]"
          ]
        }
      ],
      "source": [
        "N_EPOCHS = 300\n",
        "n_train = len(loaders['train'])\n",
        "n_valid = len(loaders['valid'])\n",
        "valid_freq = 1\n",
        "\n",
        "best_accu = 0.\n",
        "stagnation = 0\n",
        "PATIENCE = 20\n",
        "N_TEST_TIME_AUG = 5\n",
        "\n",
        "writer = SummaryWriter()\n",
        "\n",
        "for epoch in range(N_EPOCHS):\n",
        "    print()\n",
        "    print('Epoch:', epoch)\n",
        "\n",
        "    # training\n",
        "    model.train()\n",
        "    running_accu = 0.\n",
        "    running_loss = 0.\n",
        "    train_bar = tqdm(loaders['train'])\n",
        "    for (image, label) in train_bar:\n",
        "        image = image.to(device)\n",
        "        label = label.to(device)\n",
        "        logits = model(image)\n",
        "        loss = criterion(logits, label)\n",
        "        accu = accuracy(logits, label)\n",
        "        loss.backward()\n",
        "        optimizer.step()\n",
        "        optimizer.zero_grad()\n",
        "        loss = loss.item()\n",
        "        running_accu += accu\n",
        "        running_loss += loss\n",
        "        train_bar.set_description('[train] loss: %.3f, accu: %.3f' % (loss, accu))\n",
        "    running_accu /= n_train\n",
        "    running_loss /= n_train\n",
        "    scheduler.step()\n",
        "    print('[train] avg loss: %.3f, avg accu: %.3f, lr: %.5f' % (running_loss, running_accu, optimizer.param_groups[0]['lr']))\n",
        "    writer.add_scalar('train/loss', running_loss, epoch)\n",
        "    writer.add_scalar('train/accu', running_accu, epoch)\n",
        "\n",
        "    if epoch % valid_freq == 0 and epoch > 15:\n",
        "        # validation\n",
        "        model.eval()\n",
        "        running_accu = 0.\n",
        "        running_loss = 0.\n",
        "        valid_bar = tqdm(loaders['valid'])\n",
        "        for (image, label) in valid_bar:\n",
        "            image = image.to(device)\n",
        "            label = label.to(device)\n",
        "            with torch.no_grad():\n",
        "                logits = model(image)\n",
        "                if N_TEST_TIME_AUG > 0:\n",
        "                    logits = nn.functional.softmax(logits, dim=1)\n",
        "                    for _ in range(N_TEST_TIME_AUG):\n",
        "                        logits += nn.functional.softmax(model(tf['aug'](image)), dim=1)\n",
        "            accu = accuracy(logits, label).cpu()\n",
        "            loss = criterion(logits, label).item()\n",
        "            running_accu += accu\n",
        "            running_loss += loss\n",
        "            valid_bar.set_description('[valid] loss: %.3f, accu: %.3f' % (loss, accu))\n",
        "        running_accu /= n_valid\n",
        "        running_loss /= n_valid\n",
        "\n",
        "        print('[valid] avg loss: %.3f, avg accu: %.3f' % (running_loss, running_accu))\n",
        "        writer.add_scalar('valid/loss', running_loss, epoch)\n",
        "        writer.add_scalar('valid/accu', running_accu, epoch)\n",
        "\n",
        "        if running_accu > best_accu:\n",
        "            torch.save(model.state_dict(), CHECKPOINT)\n",
        "            best_accu = running_accu\n",
        "            writer.add_scalar('best_accu', best_accu, epoch)\n",
        "            stagnation = 0\n",
        "        else:\n",
        "            stagnation += 1\n",
        "            if stagnation > PATIENCE:\n",
        "                print('Early stopped')\n",
        "                break"
      ]
    },
    {
      "cell_type": "code",
      "execution_count": null,
      "metadata": {
        "id": "AA7lXUWynB39"
      },
      "outputs": [],
      "source": [
        "test_set = FoodDataset(\n",
        "    './food11/test',\n",
        "    transform=tf['valid'],\n",
        "    testing=True,\n",
        ")\n",
        "test_loader = DataLoader(\n",
        "    test_set,\n",
        "    batch_size=128,\n",
        "    shuffle=False,\n",
        "    num_workers=0,\n",
        "    pin_memory=True\n",
        ")"
      ]
    },
    {
      "cell_type": "code",
      "execution_count": null,
      "metadata": {
        "id": "Tue68f5AnH76"
      },
      "outputs": [],
      "source": [
        "model_best = Classifier().to(device)\n",
        "model_best.load_state_dict(torch.load(CHECKPOINT))\n",
        "model_best.eval()\n",
        "prediction = []\n",
        "with torch.no_grad():\n",
        "    for (image, _) in test_loader:\n",
        "        image = image.to(device)\n",
        "        logits = model_best(image)\n",
        "        if N_TEST_TIME_AUG > 0:\n",
        "            logits = nn.functional.softmax(logits, dim=1)\n",
        "            for _ in range(N_TEST_TIME_AUG):\n",
        "                logits += nn.functional.softmax(model_best(tf['aug'](image)), dim=1)\n",
        "        pred = np.argmax(\n",
        "            logits.cpu().data.numpy(),\n",
        "            axis=1\n",
        "        )\n",
        "        prediction += pred.squeeze().tolist()\n",
        "\n",
        "def pad4(i):\n",
        "    return '0' * (4 - len(str(i))) + str(i)\n",
        "\n",
        "df = pd.DataFrame()\n",
        "df['Id'] = [pad4(i) for i in range(1, len(test_set) + 1)]\n",
        "df['Category'] = prediction\n",
        "df.to_csv('submission.csv',index = False)"
      ]
    },
    {
      "cell_type": "code",
      "execution_count": null,
      "metadata": {
        "id": "fMbktUZPnKIB"
      },
      "outputs": [],
      "source": []
    }
  ],
  "metadata": {
    "accelerator": "GPU",
    "colab": {
      "collapsed_sections": [],
      "name": "hw3.ipynb",
      "provenance": []
    },
    "kernelspec": {
      "display_name": "Python 3",
      "name": "python3"
    },
    "language_info": {
      "name": "python"
    }
  },
  "nbformat": 4,
  "nbformat_minor": 0
}
